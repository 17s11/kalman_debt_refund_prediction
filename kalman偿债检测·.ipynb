{
 "cells": [
  {
   "cell_type": "code",
   "execution_count": 194,
   "id": "0a933fb9",
   "metadata": {},
   "outputs": [],
   "source": [
    "from sklearn.linear_model import LinearRegression\n",
    "from sklearn.datasets import make_regression\n",
    "from sklearn.metrics import r2_score\n",
    "import numpy as np\n",
    "import pandas as pd\n",
    "from scipy.stats import linregress\n",
    "import matplotlib.pyplot as plt\n",
    "from sklearn.decomposition import PCA\n",
    "from sklearn.preprocessing import StandardScaler\n",
    "import statsmodels.api as sm\n",
    "plt.rcParams['font.sans-serif']=['SimHei'] \n",
    "plt.rcParams['axes.unicode_minus']=False \n"
   ]
  },
  {
   "cell_type": "markdown",
   "id": "16f12179",
   "metadata": {},
   "source": [
    "### 数据准备"
   ]
  },
  {
   "cell_type": "code",
   "execution_count": 184,
   "id": "e8584f31",
   "metadata": {},
   "outputs": [],
   "source": [
    "inr=pd.read_csv(\"D:/HuaweiMoveData/Users/zxh/Desktop/风险高公司data.csv\")\n",
    "inry=pd.read_csv(\"D:/HuaweiMoveData/Users/zxh/Desktop/风险低公司data.csv\")\n"
   ]
  },
  {
   "cell_type": "markdown",
   "id": "9b28b5fe",
   "metadata": {},
   "source": [
    "### 数据预处理"
   ]
  },
  {
   "cell_type": "code",
   "execution_count": 185,
   "id": "deaf8122",
   "metadata": {},
   "outputs": [],
   "source": [
    "inr.set_index([inr['asharedebt_stat_symbol'],inr['asharedebt_stat_stat_date']],inplace=True)\n",
    "inry.set_index([inry['asharedebt_stat_symbol'],inry['asharedebt_stat_stat_date']],inplace=True)\n",
    "inr.drop(columns=['Unnamed: 0','asharedebt_stat_symbol','asharedebt_stat_stat_date'],inplace=True)\n",
    "inry.drop(columns=['Unnamed: 0','asharedebt_stat_symbol','asharedebt_stat_stat_date'],inplace=True)"
   ]
  },
  {
   "cell_type": "markdown",
   "id": "7b945ebc",
   "metadata": {},
   "source": [
    "### PCA降维"
   ]
  },
  {
   "cell_type": "code",
   "execution_count": 186,
   "id": "0eccf085",
   "metadata": {},
   "outputs": [
    {
     "name": "stderr",
     "output_type": "stream",
     "text": [
      "C:\\Users\\zxh\\AppData\\Local\\Temp\\ipykernel_13648\\850773329.py:2: FutureWarning: DataFrame.fillna with 'method' is deprecated and will raise in a future version. Use obj.ffill() or obj.bfill() instead.\n",
      "  df = df.fillna(method='ffill')\n"
     ]
    }
   ],
   "source": [
    "df=pd.concat([inr,inry])\n",
    "df = df.fillna(method='ffill')\n",
    "scaler = StandardScaler()\n",
    "df_scaled = scaler.fit_transform(df)\n",
    "pca = PCA(n_components=15)  \n",
    "principalComponents = pca.fit_transform(df_scaled)\n",
    "explained_variance_ratio = pca.explained_variance_ratio_\n",
    "cumulative_explained_variance = np.cumsum(explained_variance_ratio)\n",
    "principalDf = pd.DataFrame(data=principalComponents,\n",
    "                        columns=['pc1', 'pc2', 'pc3', 'pc4', 'pc5', 'pc6', 'pc7', 'pc8', 'pc9', 'pc10', 'pc11', 'pc12', 'pc13', 'pc14', 'pc15'])\n",
    "df.reset_index(inplace=True)\n",
    "principalDf.set_index([df['asharedebt_stat_symbol'],df['asharedebt_stat_stat_date']],inplace=True)\n"
   ]
  },
  {
   "cell_type": "markdown",
   "id": "b1be7bfc",
   "metadata": {},
   "source": [
    "### 公司分类"
   ]
  },
  {
   "cell_type": "code",
   "execution_count": 187,
   "id": "ffcbb69a",
   "metadata": {},
   "outputs": [],
   "source": [
    "def check_conditions(df):\n",
    "    # 检查 cashflow_net_cash_flows_from_opt_act/income_operating_income 是否有负值\n",
    "    if df['cashflow_net_cash_flows_from_opt_act/income_operating_income'].lt(0).any() and df['profit_stat_roa'].lt(0).any():\n",
    "            # 检查是否有任意一列连续出现3个负数\n",
    "        if (df['cashflow_net_cash_flows_from_opt_act/income_operating_income'].lt(0).rolling(3).sum().max() >= 3) or \\\n",
    "            (df['profit_stat_roa'].lt(0).rolling(3).sum().max() >= 3):\n",
    "            return 3\n",
    "        else:\n",
    "            return 2\n",
    "    else:\n",
    "        return 1\n",
    "\n",
    "sgp=pd.concat([inr,inry])\n",
    "safe=[]\n",
    "doubt=[]\n",
    "risk=[]\n",
    "for i in list(set(df['asharedebt_stat_symbol'].values)):\n",
    "    df=sgp.loc[i,['cashflow_net_cash_flows_from_opt_act/income_operating_income','profit_stat_roa']]\n",
    "    result = check_conditions(df)\n",
    "    if result==1:\n",
    "        safe.append(i)\n",
    "    elif result==2:\n",
    "        doubt.append(i)\n",
    "    else:\n",
    "        risk.append(i)\n"
   ]
  },
  {
   "cell_type": "markdown",
   "id": "1a1ffdd4",
   "metadata": {},
   "source": [
    "### 阈值确定"
   ]
  },
  {
   "cell_type": "markdown",
   "id": "6a17f255",
   "metadata": {},
   "source": [
    "+ 小于down为safe，大于up为risk "
   ]
  },
  {
   "cell_type": "code",
   "execution_count": 188,
   "id": "edba1db1",
   "metadata": {},
   "outputs": [],
   "source": [
    "doubt_data=principalDf.loc[doubt]\n",
    "doubt_data['sum']=doubt_data.values@explained_variance_ratio\n",
    "confidence_level = 0.95 \n",
    "ci = sm.stats.DescrStatsW(doubt_data['sum']).tconfint_mean(alpha=(1 - confidence_level))\n",
    "down=ci[0]\n",
    "up=ci[1]"
   ]
  },
  {
   "cell_type": "markdown",
   "id": "e55da3cd",
   "metadata": {},
   "source": [
    "### kalman滤波预测"
   ]
  },
  {
   "cell_type": "code",
   "execution_count": 189,
   "id": "8c9c744c",
   "metadata": {},
   "outputs": [],
   "source": [
    "# Q为这一轮的心里的预估误差\n",
    "Q = 0.1\n",
    "# R为下一轮的测量误差\n",
    "R = 1\n",
    "# Accumulated_Error为上一轮的估计误差，具体呈现为所有误差的累计\n",
    "Accumulated_Error = 1\n",
    "# 初始旧值\n",
    "kalman_adc_old = 0\n",
    "SCOPE = 50\n",
    "def kalman(ADC_Value):\n",
    "    global kalman_adc_old\n",
    "    global Accumulated_Error\n",
    "    # 新的值相比旧的值差太大时进行跟踪\n",
    "    if (abs(ADC_Value-kalman_adc_old)/SCOPE > 0.25):\n",
    "        Old_Input = ADC_Value*0.382 + kalman_adc_old*0.618\n",
    "    else:\n",
    "        Old_Input = kalman_adc_old\n",
    "    # 上一轮的 总误差=累计误差^2+预估误差^2\n",
    "    Old_Error_All = (Accumulated_Error**2 + Q**2)**(1/2)\n",
    "    # R为这一轮的预估误差\n",
    "    # H为利用均方差计算出来的双方的相信度\n",
    "    H = Old_Error_All**2/(Old_Error_All**2 + R**2)\n",
    "    # 旧值 + 1.00001/(1.00001+0.1) * (新值-旧值)\n",
    "    kalman_adc = Old_Input + H * (ADC_Value - Old_Input)\n",
    "    # 计算新的累计误差\n",
    "    Accumulated_Error = ((1 - H)*Old_Error_All**2)**(1/2)\n",
    "    # 新值变为旧值\n",
    "    kalman_adc_old = kalman_adc\n",
    "    return kalman_adc"
   ]
  },
  {
   "cell_type": "markdown",
   "id": "efce6d9f",
   "metadata": {},
   "source": [
    "### 图像显示"
   ]
  },
  {
   "cell_type": "code",
   "execution_count": 190,
   "id": "f830885e",
   "metadata": {},
   "outputs": [
    {
     "name": "stderr",
     "output_type": "stream",
     "text": [
      "C:\\Users\\zxh\\AppData\\Local\\Temp\\ipykernel_13648\\3810466090.py:8: FutureWarning: Series.__getitem__ treating keys as positions is deprecated. In a future version, integer keys will always be treated as labels (consistent with DataFrame behavior). To access a value by position, use `ser.iloc[pos]`\n",
      "  kal_array.append(kalman(adc_values[i]))\n"
     ]
    }
   ],
   "source": [
    "stock_data=principalDf\n",
    "stock_data['sum']=stock_data.values@explained_variance_ratio\n",
    "kal_data={}\n",
    "for s in safe+doubt+risk:\n",
    "    adc_values=stock_data.loc[s]['sum']\n",
    "    kal_array=[]\n",
    "    for i in range(len(adc_values)):\n",
    "        kal_array.append(kalman(adc_values[i]))\n",
    "    kal_data[s]=kal_array"
   ]
  },
  {
   "cell_type": "markdown",
   "id": "66beda74",
   "metadata": {},
   "source": [
    "#### 安全企业"
   ]
  },
  {
   "cell_type": "code",
   "execution_count": null,
   "id": "997400a2",
   "metadata": {},
   "outputs": [],
   "source": [
    "for i in safe:\n",
    "    real_data = stock_data.loc[i]['sum'].values\n",
    "    predict_data = kal_data[i]\n",
    "    plt.figure(figsize=(10, 5))\n",
    "    plt.title(i)\n",
    "    plt.plot(real_data, label='真实值', color='blue')\n",
    "    plt.plot(predict_data, label='预测值', color='red', linestyle='--')\n",
    "    plt.axhline(y=down, color='green', linestyle=':', label='安全线')\n",
    "    plt.axhline(y=up, color='red', linestyle=':', label='风险线')\n",
    "    plt.legend()\n",
    "    plt.grid(True)\n",
    "    plt.show()"
   ]
  },
  {
   "cell_type": "markdown",
   "id": "556d1495",
   "metadata": {},
   "source": [
    "#### 重度风险企业"
   ]
  },
  {
   "cell_type": "code",
   "execution_count": null,
   "id": "752e2ae7",
   "metadata": {},
   "outputs": [],
   "source": [
    "for i in risk[0:6]:\n",
    "    real_data = stock_data.loc[i]['sum'].values\n",
    "    predict_data = kal_data[i]\n",
    "    plt.figure(figsize=(10, 5))\n",
    "    plt.title(i)\n",
    "    plt.plot(real_data, label='真实值', color='blue')\n",
    "    plt.plot(predict_data, label='预测值', color='red', linestyle='--')\n",
    "    plt.axhline(y=down, color='green', linestyle=':', label='安全线')\n",
    "    plt.axhline(y=up, color='red', linestyle=':', label='风险线')\n",
    "    plt.legend()\n",
    "    plt.grid(True)\n",
    "    plt.show()"
   ]
  },
  {
   "cell_type": "markdown",
   "id": "b875f8f5",
   "metadata": {},
   "source": [
    "#### 轻度风险企业"
   ]
  },
  {
   "cell_type": "code",
   "execution_count": null,
   "id": "56939052",
   "metadata": {},
   "outputs": [],
   "source": [
    "for i in doubt[0:6]:\n",
    "    real_data = stock_data.loc[i]['sum'].values\n",
    "    predict_data = kal_data[i]\n",
    "    plt.figure(figsize=(10, 5))\n",
    "    plt.title(i)\n",
    "    plt.plot(real_data, label='真实值', color='blue')\n",
    "    plt.plot(predict_data, label='预测值', color='red', linestyle='--')\n",
    "    plt.axhline(y=down, color='green', linestyle=':', label='安全线')\n",
    "    plt.axhline(y=up, color='red', linestyle=':', label='风险线')\n",
    "    plt.legend()\n",
    "    plt.grid(True)\n",
    "    plt.show()"
   ]
  }
 ],
 "metadata": {
  "kernelspec": {
   "display_name": "Python 3 (ipykernel)",
   "language": "python",
   "name": "python3"
  },
  "language_info": {
   "codemirror_mode": {
    "name": "ipython",
    "version": 3
   },
   "file_extension": ".py",
   "mimetype": "text/x-python",
   "name": "python",
   "nbconvert_exporter": "python",
   "pygments_lexer": "ipython3",
   "version": "3.11.4"
  }
 },
 "nbformat": 4,
 "nbformat_minor": 5
}
